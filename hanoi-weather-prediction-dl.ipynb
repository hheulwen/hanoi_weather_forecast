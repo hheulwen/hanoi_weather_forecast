{
  "nbformat": 4,
  "nbformat_minor": 0,
  "metadata": {
    "colab": {
      "provenance": [],
      "gpuType": "T4"
    },
    "kernelspec": {
      "name": "python3",
      "display_name": "Python 3"
    },
    "language_info": {
      "name": "python"
    },
    "accelerator": "GPU"
  },
  "cells": [
    {
      "cell_type": "code",
      "execution_count": 1,
      "metadata": {
        "id": "9udsKFnk59t1"
      },
      "outputs": [],
      "source": [
        "import numpy as np\n",
        "import pandas as pd\n",
        "import matplotlib.pyplot as plt\n",
        "import seaborn as sns"
      ]
    },
    {
      "cell_type": "code",
      "source": [
        "df = pd.read_csv(\"/content/hanoi-2015-01-01-to-2025-07-03.csv\")"
      ],
      "metadata": {
        "id": "OiBI0laz6s4C"
      },
      "execution_count": 2,
      "outputs": []
    },
    {
      "cell_type": "code",
      "source": [
        "df = df.drop(['precipprob', 'precipcover', 'preciptype', 'snow', 'snowdepth', 'solarenergy', 'severerisk', 'sunrise', 'sunset', 'conditions', 'description', 'icon', 'stations'], axis=1)\n"
      ],
      "metadata": {
        "id": "LVtjbsWP7AvC"
      },
      "execution_count": 3,
      "outputs": []
    },
    {
      "cell_type": "code",
      "source": [
        "df['datetime'] = pd.to_datetime(df['datetime'], format='%m/%d/%Y')"
      ],
      "metadata": {
        "id": "B-1u79ec-4mV"
      },
      "execution_count": 4,
      "outputs": []
    },
    {
      "cell_type": "code",
      "source": [
        "def find_missing_percent(data):\n",
        "    miss_data = []\n",
        "    for col in data.columns:\n",
        "        sum_miss_val = data[col].isnull().sum()\n",
        "        percent_miss_val = round((sum_miss_val / data.shape[0]) * 100, 2)\n",
        "        miss_data.append({'ColumnName': col, 'TotalMissingVals': sum_miss_val, 'PercentMissing': percent_miss_val})\n",
        "    miss_df = pd.DataFrame(miss_data)\n",
        "    return miss_df\n",
        "\n",
        "miss_df = find_missing_percent(df)\n",
        "miss_df[miss_df['PercentMissing'] > 0]"
      ],
      "metadata": {
        "colab": {
          "base_uri": "https://localhost:8080/",
          "height": 53
        },
        "id": "179jCaiT_Auk",
        "outputId": "292d5b2b-09da-4b75-cd40-de0f89a4ad75"
      },
      "execution_count": 5,
      "outputs": [
        {
          "output_type": "execute_result",
          "data": {
            "text/plain": [
              "Empty DataFrame\n",
              "Columns: [ColumnName, TotalMissingVals, PercentMissing]\n",
              "Index: []"
            ],
            "text/html": [
              "\n",
              "  <div id=\"df-e247d718-a637-42f8-8222-fafee224869b\" class=\"colab-df-container\">\n",
              "    <div>\n",
              "<style scoped>\n",
              "    .dataframe tbody tr th:only-of-type {\n",
              "        vertical-align: middle;\n",
              "    }\n",
              "\n",
              "    .dataframe tbody tr th {\n",
              "        vertical-align: top;\n",
              "    }\n",
              "\n",
              "    .dataframe thead th {\n",
              "        text-align: right;\n",
              "    }\n",
              "</style>\n",
              "<table border=\"1\" class=\"dataframe\">\n",
              "  <thead>\n",
              "    <tr style=\"text-align: right;\">\n",
              "      <th></th>\n",
              "      <th>ColumnName</th>\n",
              "      <th>TotalMissingVals</th>\n",
              "      <th>PercentMissing</th>\n",
              "    </tr>\n",
              "  </thead>\n",
              "  <tbody>\n",
              "  </tbody>\n",
              "</table>\n",
              "</div>\n",
              "    <div class=\"colab-df-buttons\">\n",
              "\n",
              "  <div class=\"colab-df-container\">\n",
              "    <button class=\"colab-df-convert\" onclick=\"convertToInteractive('df-e247d718-a637-42f8-8222-fafee224869b')\"\n",
              "            title=\"Convert this dataframe to an interactive table.\"\n",
              "            style=\"display:none;\">\n",
              "\n",
              "  <svg xmlns=\"http://www.w3.org/2000/svg\" height=\"24px\" viewBox=\"0 -960 960 960\">\n",
              "    <path d=\"M120-120v-720h720v720H120Zm60-500h600v-160H180v160Zm220 220h160v-160H400v160Zm0 220h160v-160H400v160ZM180-400h160v-160H180v160Zm440 0h160v-160H620v160ZM180-180h160v-160H180v160Zm440 0h160v-160H620v160Z\"/>\n",
              "  </svg>\n",
              "    </button>\n",
              "\n",
              "  <style>\n",
              "    .colab-df-container {\n",
              "      display:flex;\n",
              "      gap: 12px;\n",
              "    }\n",
              "\n",
              "    .colab-df-convert {\n",
              "      background-color: #E8F0FE;\n",
              "      border: none;\n",
              "      border-radius: 50%;\n",
              "      cursor: pointer;\n",
              "      display: none;\n",
              "      fill: #1967D2;\n",
              "      height: 32px;\n",
              "      padding: 0 0 0 0;\n",
              "      width: 32px;\n",
              "    }\n",
              "\n",
              "    .colab-df-convert:hover {\n",
              "      background-color: #E2EBFA;\n",
              "      box-shadow: 0px 1px 2px rgba(60, 64, 67, 0.3), 0px 1px 3px 1px rgba(60, 64, 67, 0.15);\n",
              "      fill: #174EA6;\n",
              "    }\n",
              "\n",
              "    .colab-df-buttons div {\n",
              "      margin-bottom: 4px;\n",
              "    }\n",
              "\n",
              "    [theme=dark] .colab-df-convert {\n",
              "      background-color: #3B4455;\n",
              "      fill: #D2E3FC;\n",
              "    }\n",
              "\n",
              "    [theme=dark] .colab-df-convert:hover {\n",
              "      background-color: #434B5C;\n",
              "      box-shadow: 0px 1px 3px 1px rgba(0, 0, 0, 0.15);\n",
              "      filter: drop-shadow(0px 1px 2px rgba(0, 0, 0, 0.3));\n",
              "      fill: #FFFFFF;\n",
              "    }\n",
              "  </style>\n",
              "\n",
              "    <script>\n",
              "      const buttonEl =\n",
              "        document.querySelector('#df-e247d718-a637-42f8-8222-fafee224869b button.colab-df-convert');\n",
              "      buttonEl.style.display =\n",
              "        google.colab.kernel.accessAllowed ? 'block' : 'none';\n",
              "\n",
              "      async function convertToInteractive(key) {\n",
              "        const element = document.querySelector('#df-e247d718-a637-42f8-8222-fafee224869b');\n",
              "        const dataTable =\n",
              "          await google.colab.kernel.invokeFunction('convertToInteractive',\n",
              "                                                    [key], {});\n",
              "        if (!dataTable) return;\n",
              "\n",
              "        const docLinkHtml = 'Like what you see? Visit the ' +\n",
              "          '<a target=\"_blank\" href=https://colab.research.google.com/notebooks/data_table.ipynb>data table notebook</a>'\n",
              "          + ' to learn more about interactive tables.';\n",
              "        element.innerHTML = '';\n",
              "        dataTable['output_type'] = 'display_data';\n",
              "        await google.colab.output.renderOutput(dataTable, element);\n",
              "        const docLink = document.createElement('div');\n",
              "        docLink.innerHTML = docLinkHtml;\n",
              "        element.appendChild(docLink);\n",
              "      }\n",
              "    </script>\n",
              "  </div>\n",
              "\n",
              "\n",
              "    </div>\n",
              "  </div>\n"
            ],
            "application/vnd.google.colaboratory.intrinsic+json": {
              "type": "dataframe",
              "repr_error": "Out of range float values are not JSON compliant: nan"
            }
          },
          "metadata": {},
          "execution_count": 5
        }
      ]
    },
    {
      "cell_type": "code",
      "source": [
        "df.head(10)"
      ],
      "metadata": {
        "colab": {
          "base_uri": "https://localhost:8080/",
          "height": 556
        },
        "id": "ZG4vVOi1_BtA",
        "outputId": "bfa09817-d8ec-49f3-90c3-30bcc572258c"
      },
      "execution_count": 6,
      "outputs": [
        {
          "output_type": "execute_result",
          "data": {
            "text/plain": [
              "    name   datetime  tempmax  tempmin  temp  feelslikemax  feelslikemin  \\\n",
              "0  hanoi 2015-01-01     24.0     11.4  17.7          24.0          11.4   \n",
              "1  hanoi 2015-01-02     22.0     11.0  16.3          22.0          11.0   \n",
              "2  hanoi 2015-01-03     21.0     13.1  17.0          21.0          13.1   \n",
              "3  hanoi 2015-01-04     22.3     16.9  19.3          22.3          16.9   \n",
              "4  hanoi 2015-01-05     23.0     18.5  20.4          23.0          18.5   \n",
              "5  hanoi 2015-01-06     23.4     20.0  21.7          23.4          20.0   \n",
              "6  hanoi 2015-01-07     21.5     17.0  18.9          21.5          17.0   \n",
              "7  hanoi 2015-01-08     17.1     14.5  15.8          17.1          14.5   \n",
              "8  hanoi 2015-01-09     16.0     12.0  14.3          16.0          12.0   \n",
              "9  hanoi 2015-01-10     12.4     11.8  12.0          12.4          11.8   \n",
              "\n",
              "   feelslike   dew  humidity  precip  windgust  windspeed  winddir  \\\n",
              "0       17.7   9.4      63.8   0.000      25.2       13.0     80.6   \n",
              "1       16.3   9.4      65.5   0.000      23.4       13.9    101.3   \n",
              "2       17.0  12.4      75.3   0.000      21.6       13.0     97.2   \n",
              "3       19.3  16.1      81.9   0.600      25.2       16.8     98.1   \n",
              "4       20.4  18.4      88.3   0.000      19.1       13.0     85.8   \n",
              "5       21.7  19.6      88.0   0.295      31.7       10.3     84.0   \n",
              "6       18.9  14.7      76.9   0.684      29.5       25.0     33.2   \n",
              "7       15.8  10.6      71.4   0.098      22.3       15.7    358.4   \n",
              "8       14.3  10.0      76.1   0.098      22.7       16.6    355.2   \n",
              "9       12.0  10.8      92.2   7.834      19.1       14.8    351.7   \n",
              "\n",
              "   sealevelpressure  cloudcover  visibility  solarradiation  uvindex  \\\n",
              "0            1023.4         0.4         7.1           197.4        7   \n",
              "1            1022.7        28.1         7.7           187.6        7   \n",
              "2            1020.0        40.9         5.8           115.5        4   \n",
              "3            1013.5        88.0         6.2            64.3        3   \n",
              "4            1011.2        90.0         4.0            93.7        4   \n",
              "5            1013.2        89.2         4.2            41.7        2   \n",
              "6            1018.7        91.3         9.1            25.5        1   \n",
              "7            1024.1        81.5         8.1            33.1        2   \n",
              "8            1024.6        81.4         7.7            30.0        1   \n",
              "9            1024.7        91.4         7.9            13.4        1   \n",
              "\n",
              "   moonphase  \n",
              "0       0.36  \n",
              "1       0.39  \n",
              "2       0.43  \n",
              "3       0.46  \n",
              "4       0.50  \n",
              "5       0.53  \n",
              "6       0.57  \n",
              "7       0.60  \n",
              "8       0.63  \n",
              "9       0.66  "
            ],
            "text/html": [
              "\n",
              "  <div id=\"df-77be358c-ee16-4421-abd4-f2af85bb18b5\" class=\"colab-df-container\">\n",
              "    <div>\n",
              "<style scoped>\n",
              "    .dataframe tbody tr th:only-of-type {\n",
              "        vertical-align: middle;\n",
              "    }\n",
              "\n",
              "    .dataframe tbody tr th {\n",
              "        vertical-align: top;\n",
              "    }\n",
              "\n",
              "    .dataframe thead th {\n",
              "        text-align: right;\n",
              "    }\n",
              "</style>\n",
              "<table border=\"1\" class=\"dataframe\">\n",
              "  <thead>\n",
              "    <tr style=\"text-align: right;\">\n",
              "      <th></th>\n",
              "      <th>name</th>\n",
              "      <th>datetime</th>\n",
              "      <th>tempmax</th>\n",
              "      <th>tempmin</th>\n",
              "      <th>temp</th>\n",
              "      <th>feelslikemax</th>\n",
              "      <th>feelslikemin</th>\n",
              "      <th>feelslike</th>\n",
              "      <th>dew</th>\n",
              "      <th>humidity</th>\n",
              "      <th>precip</th>\n",
              "      <th>windgust</th>\n",
              "      <th>windspeed</th>\n",
              "      <th>winddir</th>\n",
              "      <th>sealevelpressure</th>\n",
              "      <th>cloudcover</th>\n",
              "      <th>visibility</th>\n",
              "      <th>solarradiation</th>\n",
              "      <th>uvindex</th>\n",
              "      <th>moonphase</th>\n",
              "    </tr>\n",
              "  </thead>\n",
              "  <tbody>\n",
              "    <tr>\n",
              "      <th>0</th>\n",
              "      <td>hanoi</td>\n",
              "      <td>2015-01-01</td>\n",
              "      <td>24.0</td>\n",
              "      <td>11.4</td>\n",
              "      <td>17.7</td>\n",
              "      <td>24.0</td>\n",
              "      <td>11.4</td>\n",
              "      <td>17.7</td>\n",
              "      <td>9.4</td>\n",
              "      <td>63.8</td>\n",
              "      <td>0.000</td>\n",
              "      <td>25.2</td>\n",
              "      <td>13.0</td>\n",
              "      <td>80.6</td>\n",
              "      <td>1023.4</td>\n",
              "      <td>0.4</td>\n",
              "      <td>7.1</td>\n",
              "      <td>197.4</td>\n",
              "      <td>7</td>\n",
              "      <td>0.36</td>\n",
              "    </tr>\n",
              "    <tr>\n",
              "      <th>1</th>\n",
              "      <td>hanoi</td>\n",
              "      <td>2015-01-02</td>\n",
              "      <td>22.0</td>\n",
              "      <td>11.0</td>\n",
              "      <td>16.3</td>\n",
              "      <td>22.0</td>\n",
              "      <td>11.0</td>\n",
              "      <td>16.3</td>\n",
              "      <td>9.4</td>\n",
              "      <td>65.5</td>\n",
              "      <td>0.000</td>\n",
              "      <td>23.4</td>\n",
              "      <td>13.9</td>\n",
              "      <td>101.3</td>\n",
              "      <td>1022.7</td>\n",
              "      <td>28.1</td>\n",
              "      <td>7.7</td>\n",
              "      <td>187.6</td>\n",
              "      <td>7</td>\n",
              "      <td>0.39</td>\n",
              "    </tr>\n",
              "    <tr>\n",
              "      <th>2</th>\n",
              "      <td>hanoi</td>\n",
              "      <td>2015-01-03</td>\n",
              "      <td>21.0</td>\n",
              "      <td>13.1</td>\n",
              "      <td>17.0</td>\n",
              "      <td>21.0</td>\n",
              "      <td>13.1</td>\n",
              "      <td>17.0</td>\n",
              "      <td>12.4</td>\n",
              "      <td>75.3</td>\n",
              "      <td>0.000</td>\n",
              "      <td>21.6</td>\n",
              "      <td>13.0</td>\n",
              "      <td>97.2</td>\n",
              "      <td>1020.0</td>\n",
              "      <td>40.9</td>\n",
              "      <td>5.8</td>\n",
              "      <td>115.5</td>\n",
              "      <td>4</td>\n",
              "      <td>0.43</td>\n",
              "    </tr>\n",
              "    <tr>\n",
              "      <th>3</th>\n",
              "      <td>hanoi</td>\n",
              "      <td>2015-01-04</td>\n",
              "      <td>22.3</td>\n",
              "      <td>16.9</td>\n",
              "      <td>19.3</td>\n",
              "      <td>22.3</td>\n",
              "      <td>16.9</td>\n",
              "      <td>19.3</td>\n",
              "      <td>16.1</td>\n",
              "      <td>81.9</td>\n",
              "      <td>0.600</td>\n",
              "      <td>25.2</td>\n",
              "      <td>16.8</td>\n",
              "      <td>98.1</td>\n",
              "      <td>1013.5</td>\n",
              "      <td>88.0</td>\n",
              "      <td>6.2</td>\n",
              "      <td>64.3</td>\n",
              "      <td>3</td>\n",
              "      <td>0.46</td>\n",
              "    </tr>\n",
              "    <tr>\n",
              "      <th>4</th>\n",
              "      <td>hanoi</td>\n",
              "      <td>2015-01-05</td>\n",
              "      <td>23.0</td>\n",
              "      <td>18.5</td>\n",
              "      <td>20.4</td>\n",
              "      <td>23.0</td>\n",
              "      <td>18.5</td>\n",
              "      <td>20.4</td>\n",
              "      <td>18.4</td>\n",
              "      <td>88.3</td>\n",
              "      <td>0.000</td>\n",
              "      <td>19.1</td>\n",
              "      <td>13.0</td>\n",
              "      <td>85.8</td>\n",
              "      <td>1011.2</td>\n",
              "      <td>90.0</td>\n",
              "      <td>4.0</td>\n",
              "      <td>93.7</td>\n",
              "      <td>4</td>\n",
              "      <td>0.50</td>\n",
              "    </tr>\n",
              "    <tr>\n",
              "      <th>5</th>\n",
              "      <td>hanoi</td>\n",
              "      <td>2015-01-06</td>\n",
              "      <td>23.4</td>\n",
              "      <td>20.0</td>\n",
              "      <td>21.7</td>\n",
              "      <td>23.4</td>\n",
              "      <td>20.0</td>\n",
              "      <td>21.7</td>\n",
              "      <td>19.6</td>\n",
              "      <td>88.0</td>\n",
              "      <td>0.295</td>\n",
              "      <td>31.7</td>\n",
              "      <td>10.3</td>\n",
              "      <td>84.0</td>\n",
              "      <td>1013.2</td>\n",
              "      <td>89.2</td>\n",
              "      <td>4.2</td>\n",
              "      <td>41.7</td>\n",
              "      <td>2</td>\n",
              "      <td>0.53</td>\n",
              "    </tr>\n",
              "    <tr>\n",
              "      <th>6</th>\n",
              "      <td>hanoi</td>\n",
              "      <td>2015-01-07</td>\n",
              "      <td>21.5</td>\n",
              "      <td>17.0</td>\n",
              "      <td>18.9</td>\n",
              "      <td>21.5</td>\n",
              "      <td>17.0</td>\n",
              "      <td>18.9</td>\n",
              "      <td>14.7</td>\n",
              "      <td>76.9</td>\n",
              "      <td>0.684</td>\n",
              "      <td>29.5</td>\n",
              "      <td>25.0</td>\n",
              "      <td>33.2</td>\n",
              "      <td>1018.7</td>\n",
              "      <td>91.3</td>\n",
              "      <td>9.1</td>\n",
              "      <td>25.5</td>\n",
              "      <td>1</td>\n",
              "      <td>0.57</td>\n",
              "    </tr>\n",
              "    <tr>\n",
              "      <th>7</th>\n",
              "      <td>hanoi</td>\n",
              "      <td>2015-01-08</td>\n",
              "      <td>17.1</td>\n",
              "      <td>14.5</td>\n",
              "      <td>15.8</td>\n",
              "      <td>17.1</td>\n",
              "      <td>14.5</td>\n",
              "      <td>15.8</td>\n",
              "      <td>10.6</td>\n",
              "      <td>71.4</td>\n",
              "      <td>0.098</td>\n",
              "      <td>22.3</td>\n",
              "      <td>15.7</td>\n",
              "      <td>358.4</td>\n",
              "      <td>1024.1</td>\n",
              "      <td>81.5</td>\n",
              "      <td>8.1</td>\n",
              "      <td>33.1</td>\n",
              "      <td>2</td>\n",
              "      <td>0.60</td>\n",
              "    </tr>\n",
              "    <tr>\n",
              "      <th>8</th>\n",
              "      <td>hanoi</td>\n",
              "      <td>2015-01-09</td>\n",
              "      <td>16.0</td>\n",
              "      <td>12.0</td>\n",
              "      <td>14.3</td>\n",
              "      <td>16.0</td>\n",
              "      <td>12.0</td>\n",
              "      <td>14.3</td>\n",
              "      <td>10.0</td>\n",
              "      <td>76.1</td>\n",
              "      <td>0.098</td>\n",
              "      <td>22.7</td>\n",
              "      <td>16.6</td>\n",
              "      <td>355.2</td>\n",
              "      <td>1024.6</td>\n",
              "      <td>81.4</td>\n",
              "      <td>7.7</td>\n",
              "      <td>30.0</td>\n",
              "      <td>1</td>\n",
              "      <td>0.63</td>\n",
              "    </tr>\n",
              "    <tr>\n",
              "      <th>9</th>\n",
              "      <td>hanoi</td>\n",
              "      <td>2015-01-10</td>\n",
              "      <td>12.4</td>\n",
              "      <td>11.8</td>\n",
              "      <td>12.0</td>\n",
              "      <td>12.4</td>\n",
              "      <td>11.8</td>\n",
              "      <td>12.0</td>\n",
              "      <td>10.8</td>\n",
              "      <td>92.2</td>\n",
              "      <td>7.834</td>\n",
              "      <td>19.1</td>\n",
              "      <td>14.8</td>\n",
              "      <td>351.7</td>\n",
              "      <td>1024.7</td>\n",
              "      <td>91.4</td>\n",
              "      <td>7.9</td>\n",
              "      <td>13.4</td>\n",
              "      <td>1</td>\n",
              "      <td>0.66</td>\n",
              "    </tr>\n",
              "  </tbody>\n",
              "</table>\n",
              "</div>\n",
              "    <div class=\"colab-df-buttons\">\n",
              "\n",
              "  <div class=\"colab-df-container\">\n",
              "    <button class=\"colab-df-convert\" onclick=\"convertToInteractive('df-77be358c-ee16-4421-abd4-f2af85bb18b5')\"\n",
              "            title=\"Convert this dataframe to an interactive table.\"\n",
              "            style=\"display:none;\">\n",
              "\n",
              "  <svg xmlns=\"http://www.w3.org/2000/svg\" height=\"24px\" viewBox=\"0 -960 960 960\">\n",
              "    <path d=\"M120-120v-720h720v720H120Zm60-500h600v-160H180v160Zm220 220h160v-160H400v160Zm0 220h160v-160H400v160ZM180-400h160v-160H180v160Zm440 0h160v-160H620v160ZM180-180h160v-160H180v160Zm440 0h160v-160H620v160Z\"/>\n",
              "  </svg>\n",
              "    </button>\n",
              "\n",
              "  <style>\n",
              "    .colab-df-container {\n",
              "      display:flex;\n",
              "      gap: 12px;\n",
              "    }\n",
              "\n",
              "    .colab-df-convert {\n",
              "      background-color: #E8F0FE;\n",
              "      border: none;\n",
              "      border-radius: 50%;\n",
              "      cursor: pointer;\n",
              "      display: none;\n",
              "      fill: #1967D2;\n",
              "      height: 32px;\n",
              "      padding: 0 0 0 0;\n",
              "      width: 32px;\n",
              "    }\n",
              "\n",
              "    .colab-df-convert:hover {\n",
              "      background-color: #E2EBFA;\n",
              "      box-shadow: 0px 1px 2px rgba(60, 64, 67, 0.3), 0px 1px 3px 1px rgba(60, 64, 67, 0.15);\n",
              "      fill: #174EA6;\n",
              "    }\n",
              "\n",
              "    .colab-df-buttons div {\n",
              "      margin-bottom: 4px;\n",
              "    }\n",
              "\n",
              "    [theme=dark] .colab-df-convert {\n",
              "      background-color: #3B4455;\n",
              "      fill: #D2E3FC;\n",
              "    }\n",
              "\n",
              "    [theme=dark] .colab-df-convert:hover {\n",
              "      background-color: #434B5C;\n",
              "      box-shadow: 0px 1px 3px 1px rgba(0, 0, 0, 0.15);\n",
              "      filter: drop-shadow(0px 1px 2px rgba(0, 0, 0, 0.3));\n",
              "      fill: #FFFFFF;\n",
              "    }\n",
              "  </style>\n",
              "\n",
              "    <script>\n",
              "      const buttonEl =\n",
              "        document.querySelector('#df-77be358c-ee16-4421-abd4-f2af85bb18b5 button.colab-df-convert');\n",
              "      buttonEl.style.display =\n",
              "        google.colab.kernel.accessAllowed ? 'block' : 'none';\n",
              "\n",
              "      async function convertToInteractive(key) {\n",
              "        const element = document.querySelector('#df-77be358c-ee16-4421-abd4-f2af85bb18b5');\n",
              "        const dataTable =\n",
              "          await google.colab.kernel.invokeFunction('convertToInteractive',\n",
              "                                                    [key], {});\n",
              "        if (!dataTable) return;\n",
              "\n",
              "        const docLinkHtml = 'Like what you see? Visit the ' +\n",
              "          '<a target=\"_blank\" href=https://colab.research.google.com/notebooks/data_table.ipynb>data table notebook</a>'\n",
              "          + ' to learn more about interactive tables.';\n",
              "        element.innerHTML = '';\n",
              "        dataTable['output_type'] = 'display_data';\n",
              "        await google.colab.output.renderOutput(dataTable, element);\n",
              "        const docLink = document.createElement('div');\n",
              "        docLink.innerHTML = docLinkHtml;\n",
              "        element.appendChild(docLink);\n",
              "      }\n",
              "    </script>\n",
              "  </div>\n",
              "\n",
              "\n",
              "<div id=\"df-791e48ea-1476-4267-9667-2b3e5fab7ce3\">\n",
              "  <button class=\"colab-df-quickchart\" onclick=\"quickchart('df-791e48ea-1476-4267-9667-2b3e5fab7ce3')\"\n",
              "            title=\"Suggest charts\"\n",
              "            style=\"display:none;\">\n",
              "\n",
              "<svg xmlns=\"http://www.w3.org/2000/svg\" height=\"24px\"viewBox=\"0 0 24 24\"\n",
              "     width=\"24px\">\n",
              "    <g>\n",
              "        <path d=\"M19 3H5c-1.1 0-2 .9-2 2v14c0 1.1.9 2 2 2h14c1.1 0 2-.9 2-2V5c0-1.1-.9-2-2-2zM9 17H7v-7h2v7zm4 0h-2V7h2v10zm4 0h-2v-4h2v4z\"/>\n",
              "    </g>\n",
              "</svg>\n",
              "  </button>\n",
              "\n",
              "<style>\n",
              "  .colab-df-quickchart {\n",
              "      --bg-color: #E8F0FE;\n",
              "      --fill-color: #1967D2;\n",
              "      --hover-bg-color: #E2EBFA;\n",
              "      --hover-fill-color: #174EA6;\n",
              "      --disabled-fill-color: #AAA;\n",
              "      --disabled-bg-color: #DDD;\n",
              "  }\n",
              "\n",
              "  [theme=dark] .colab-df-quickchart {\n",
              "      --bg-color: #3B4455;\n",
              "      --fill-color: #D2E3FC;\n",
              "      --hover-bg-color: #434B5C;\n",
              "      --hover-fill-color: #FFFFFF;\n",
              "      --disabled-bg-color: #3B4455;\n",
              "      --disabled-fill-color: #666;\n",
              "  }\n",
              "\n",
              "  .colab-df-quickchart {\n",
              "    background-color: var(--bg-color);\n",
              "    border: none;\n",
              "    border-radius: 50%;\n",
              "    cursor: pointer;\n",
              "    display: none;\n",
              "    fill: var(--fill-color);\n",
              "    height: 32px;\n",
              "    padding: 0;\n",
              "    width: 32px;\n",
              "  }\n",
              "\n",
              "  .colab-df-quickchart:hover {\n",
              "    background-color: var(--hover-bg-color);\n",
              "    box-shadow: 0 1px 2px rgba(60, 64, 67, 0.3), 0 1px 3px 1px rgba(60, 64, 67, 0.15);\n",
              "    fill: var(--button-hover-fill-color);\n",
              "  }\n",
              "\n",
              "  .colab-df-quickchart-complete:disabled,\n",
              "  .colab-df-quickchart-complete:disabled:hover {\n",
              "    background-color: var(--disabled-bg-color);\n",
              "    fill: var(--disabled-fill-color);\n",
              "    box-shadow: none;\n",
              "  }\n",
              "\n",
              "  .colab-df-spinner {\n",
              "    border: 2px solid var(--fill-color);\n",
              "    border-color: transparent;\n",
              "    border-bottom-color: var(--fill-color);\n",
              "    animation:\n",
              "      spin 1s steps(1) infinite;\n",
              "  }\n",
              "\n",
              "  @keyframes spin {\n",
              "    0% {\n",
              "      border-color: transparent;\n",
              "      border-bottom-color: var(--fill-color);\n",
              "      border-left-color: var(--fill-color);\n",
              "    }\n",
              "    20% {\n",
              "      border-color: transparent;\n",
              "      border-left-color: var(--fill-color);\n",
              "      border-top-color: var(--fill-color);\n",
              "    }\n",
              "    30% {\n",
              "      border-color: transparent;\n",
              "      border-left-color: var(--fill-color);\n",
              "      border-top-color: var(--fill-color);\n",
              "      border-right-color: var(--fill-color);\n",
              "    }\n",
              "    40% {\n",
              "      border-color: transparent;\n",
              "      border-right-color: var(--fill-color);\n",
              "      border-top-color: var(--fill-color);\n",
              "    }\n",
              "    60% {\n",
              "      border-color: transparent;\n",
              "      border-right-color: var(--fill-color);\n",
              "    }\n",
              "    80% {\n",
              "      border-color: transparent;\n",
              "      border-right-color: var(--fill-color);\n",
              "      border-bottom-color: var(--fill-color);\n",
              "    }\n",
              "    90% {\n",
              "      border-color: transparent;\n",
              "      border-bottom-color: var(--fill-color);\n",
              "    }\n",
              "  }\n",
              "</style>\n",
              "\n",
              "  <script>\n",
              "    async function quickchart(key) {\n",
              "      const quickchartButtonEl =\n",
              "        document.querySelector('#' + key + ' button');\n",
              "      quickchartButtonEl.disabled = true;  // To prevent multiple clicks.\n",
              "      quickchartButtonEl.classList.add('colab-df-spinner');\n",
              "      try {\n",
              "        const charts = await google.colab.kernel.invokeFunction(\n",
              "            'suggestCharts', [key], {});\n",
              "      } catch (error) {\n",
              "        console.error('Error during call to suggestCharts:', error);\n",
              "      }\n",
              "      quickchartButtonEl.classList.remove('colab-df-spinner');\n",
              "      quickchartButtonEl.classList.add('colab-df-quickchart-complete');\n",
              "    }\n",
              "    (() => {\n",
              "      let quickchartButtonEl =\n",
              "        document.querySelector('#df-791e48ea-1476-4267-9667-2b3e5fab7ce3 button');\n",
              "      quickchartButtonEl.style.display =\n",
              "        google.colab.kernel.accessAllowed ? 'block' : 'none';\n",
              "    })();\n",
              "  </script>\n",
              "</div>\n",
              "\n",
              "    </div>\n",
              "  </div>\n"
            ],
            "application/vnd.google.colaboratory.intrinsic+json": {
              "type": "dataframe",
              "variable_name": "df",
              "summary": "{\n  \"name\": \"df\",\n  \"rows\": 3719,\n  \"fields\": [\n    {\n      \"column\": \"name\",\n      \"properties\": {\n        \"dtype\": \"category\",\n        \"num_unique_values\": 1,\n        \"samples\": [\n          \"hanoi\"\n        ],\n        \"semantic_type\": \"\",\n        \"description\": \"\"\n      }\n    },\n    {\n      \"column\": \"datetime\",\n      \"properties\": {\n        \"dtype\": \"date\",\n        \"min\": \"2015-01-01 00:00:00\",\n        \"max\": \"2025-03-07 00:00:00\",\n        \"num_unique_values\": 3719,\n        \"samples\": [\n          \"2017-06-22 00:00:00\"\n        ],\n        \"semantic_type\": \"\",\n        \"description\": \"\"\n      }\n    },\n    {\n      \"column\": \"tempmax\",\n      \"properties\": {\n        \"dtype\": \"number\",\n        \"std\": 5.881273748741119,\n        \"min\": 8.0,\n        \"max\": 41.7,\n        \"num_unique_values\": 265,\n        \"samples\": [\n          40.0\n        ],\n        \"semantic_type\": \"\",\n        \"description\": \"\"\n      }\n    },\n    {\n      \"column\": \"tempmin\",\n      \"properties\": {\n        \"dtype\": \"number\",\n        \"std\": 4.915269788901628,\n        \"min\": 5.9,\n        \"max\": 31.0,\n        \"num_unique_values\": 178,\n        \"samples\": [\n          19.0\n        ],\n        \"semantic_type\": \"\",\n        \"description\": \"\"\n      }\n    },\n    {\n      \"column\": \"temp\",\n      \"properties\": {\n        \"dtype\": \"number\",\n        \"std\": 5.182187430792747,\n        \"min\": 7.0,\n        \"max\": 35.5,\n        \"num_unique_values\": 244,\n        \"samples\": [\n          21.9\n        ],\n        \"semantic_type\": \"\",\n        \"description\": \"\"\n      }\n    },\n    {\n      \"column\": \"feelslikemax\",\n      \"properties\": {\n        \"dtype\": \"number\",\n        \"std\": 9.495014655708225,\n        \"min\": 8.0,\n        \"max\": 52.5,\n        \"num_unique_values\": 366,\n        \"samples\": [\n          17.3\n        ],\n        \"semantic_type\": \"\",\n        \"description\": \"\"\n      }\n    },\n    {\n      \"column\": \"feelslikemin\",\n      \"properties\": {\n        \"dtype\": \"number\",\n        \"std\": 6.126467995117717,\n        \"min\": 2.1,\n        \"max\": 40.4,\n        \"num_unique_values\": 246,\n        \"samples\": [\n          23.0\n        ],\n        \"semantic_type\": \"\",\n        \"description\": \"\"\n      }\n    },\n    {\n      \"column\": \"feelslike\",\n      \"properties\": {\n        \"dtype\": \"number\",\n        \"std\": 7.742503138572703,\n        \"min\": 4.6,\n        \"max\": 46.2,\n        \"num_unique_values\": 335,\n        \"samples\": [\n          22.2\n        ],\n        \"semantic_type\": \"\",\n        \"description\": \"\"\n      }\n    },\n    {\n      \"column\": \"dew\",\n      \"properties\": {\n        \"dtype\": \"number\",\n        \"std\": 5.8262058067010365,\n        \"min\": -2.1,\n        \"max\": 28.5,\n        \"num_unique_values\": 267,\n        \"samples\": [\n          25.1\n        ],\n        \"semantic_type\": \"\",\n        \"description\": \"\"\n      }\n    },\n    {\n      \"column\": \"humidity\",\n      \"properties\": {\n        \"dtype\": \"number\",\n        \"std\": 10.932196390657593,\n        \"min\": 31.1,\n        \"max\": 100.0,\n        \"num_unique_values\": 518,\n        \"samples\": [\n          67.7\n        ],\n        \"semantic_type\": \"\",\n        \"description\": \"\"\n      }\n    },\n    {\n      \"column\": \"precip\",\n      \"properties\": {\n        \"dtype\": \"number\",\n        \"std\": 15.836867274918161,\n        \"min\": 0.0,\n        \"max\": 331.243,\n        \"num_unique_values\": 1164,\n        \"samples\": [\n          41.664\n        ],\n        \"semantic_type\": \"\",\n        \"description\": \"\"\n      }\n    },\n    {\n      \"column\": \"windgust\",\n      \"properties\": {\n        \"dtype\": \"number\",\n        \"std\": 8.013183792157454,\n        \"min\": 7.2,\n        \"max\": 118.8,\n        \"num_unique_values\": 133,\n        \"samples\": [\n          38.2\n        ],\n        \"semantic_type\": \"\",\n        \"description\": \"\"\n      }\n    },\n    {\n      \"column\": \"windspeed\",\n      \"properties\": {\n        \"dtype\": \"number\",\n        \"std\": 4.993673149778296,\n        \"min\": 6.5,\n        \"max\": 53.6,\n        \"num_unique_values\": 148,\n        \"samples\": [\n          19.9\n        ],\n        \"semantic_type\": \"\",\n        \"description\": \"\"\n      }\n    },\n    {\n      \"column\": \"winddir\",\n      \"properties\": {\n        \"dtype\": \"number\",\n        \"std\": 97.72296809186793,\n        \"min\": 0.0,\n        \"max\": 360.0,\n        \"num_unique_values\": 1731,\n        \"samples\": [\n          49.1\n        ],\n        \"semantic_type\": \"\",\n        \"description\": \"\"\n      }\n    },\n    {\n      \"column\": \"sealevelpressure\",\n      \"properties\": {\n        \"dtype\": \"number\",\n        \"std\": 7.155667095684963,\n        \"min\": 991.1,\n        \"max\": 1037.2,\n        \"num_unique_values\": 332,\n        \"samples\": [\n          1015.4\n        ],\n        \"semantic_type\": \"\",\n        \"description\": \"\"\n      }\n    },\n    {\n      \"column\": \"cloudcover\",\n      \"properties\": {\n        \"dtype\": \"number\",\n        \"std\": 23.48650561218511,\n        \"min\": 0.0,\n        \"max\": 100.0,\n        \"num_unique_values\": 898,\n        \"samples\": [\n          63.3\n        ],\n        \"semantic_type\": \"\",\n        \"description\": \"\"\n      }\n    },\n    {\n      \"column\": \"visibility\",\n      \"properties\": {\n        \"dtype\": \"number\",\n        \"std\": 1.7782414035901368,\n        \"min\": 2.2,\n        \"max\": 15.9,\n        \"num_unique_values\": 99,\n        \"samples\": [\n          11.5\n        ],\n        \"semantic_type\": \"\",\n        \"description\": \"\"\n      }\n    },\n    {\n      \"column\": \"solarradiation\",\n      \"properties\": {\n        \"dtype\": \"number\",\n        \"std\": 77.21704441255153,\n        \"min\": 0.0,\n        \"max\": 323.5,\n        \"num_unique_values\": 2091,\n        \"samples\": [\n          156.7\n        ],\n        \"semantic_type\": \"\",\n        \"description\": \"\"\n      }\n    },\n    {\n      \"column\": \"uvindex\",\n      \"properties\": {\n        \"dtype\": \"number\",\n        \"std\": 2,\n        \"min\": 0,\n        \"max\": 10,\n        \"num_unique_values\": 11,\n        \"samples\": [\n          5\n        ],\n        \"semantic_type\": \"\",\n        \"description\": \"\"\n      }\n    },\n    {\n      \"column\": \"moonphase\",\n      \"properties\": {\n        \"dtype\": \"number\",\n        \"std\": 0.28882619106079105,\n        \"min\": 0.0,\n        \"max\": 0.98,\n        \"num_unique_values\": 96,\n        \"samples\": [\n          0.07\n        ],\n        \"semantic_type\": \"\",\n        \"description\": \"\"\n      }\n    }\n  ]\n}"
            }
          },
          "metadata": {},
          "execution_count": 6
        }
      ]
    },
    {
      "cell_type": "code",
      "source": [
        "df.columns"
      ],
      "metadata": {
        "colab": {
          "base_uri": "https://localhost:8080/"
        },
        "id": "HX01ByWqJu79",
        "outputId": "e0b10776-3f48-4e02-c177-a5e0fe813419"
      },
      "execution_count": 7,
      "outputs": [
        {
          "output_type": "execute_result",
          "data": {
            "text/plain": [
              "Index(['name', 'datetime', 'tempmax', 'tempmin', 'temp', 'feelslikemax',\n",
              "       'feelslikemin', 'feelslike', 'dew', 'humidity', 'precip', 'windgust',\n",
              "       'windspeed', 'winddir', 'sealevelpressure', 'cloudcover', 'visibility',\n",
              "       'solarradiation', 'uvindex', 'moonphase'],\n",
              "      dtype='object')"
            ]
          },
          "metadata": {},
          "execution_count": 7
        }
      ]
    },
    {
      "cell_type": "code",
      "source": [
        "from sklearn.preprocessing import MinMaxScaler\n",
        "input_features = ['tempmax', 'tempmin', 'temp', 'feelslikemax',\n",
        "       'feelslikemin', 'feelslike', 'dew', 'humidity', 'precip', 'windgust',\n",
        "       'windspeed', 'winddir', 'sealevelpressure', 'cloudcover', 'visibility',\n",
        "       'solarradiation', 'uvindex', 'moonphase']\n",
        "# Initialize the scaler\n",
        "scaler = MinMaxScaler()  # Use StandardScaler() if you prefer standardization\n",
        "\n",
        "# Fit and transform the entire dataset (before creating sequences)\n",
        "df_scaled = pd.DataFrame(scaler.fit_transform(df[input_features]), columns=input_features)\n"
      ],
      "metadata": {
        "id": "kKNOCJHpTTc4"
      },
      "execution_count": 8,
      "outputs": []
    },
    {
      "cell_type": "code",
      "source": [
        "# Hàm tạo dataset theo sequence\n",
        "def data_loader(data, sequence_length):\n",
        "\n",
        "    # Create lists to store input-output pairs\n",
        "    input_data = []\n",
        "    target_data = []\n",
        "\n",
        "    # Iterate over the dataset to create sequences\n",
        "    for i in range(len(data) - sequence_length):\n",
        "        past_data = data.iloc[i:i + sequence_length][input_features].values.tolist()  # Last 5 days as input\n",
        "        target_value = data.iloc[i + sequence_length][\"temp\"]  # Target is the temp of the next day\n",
        "\n",
        "        input_data.append(past_data)\n",
        "        target_data.append(target_value)\n",
        "    return np.array(input_data), np.array(target_data)"
      ],
      "metadata": {
        "id": "F1BgINO-_Mxy"
      },
      "execution_count": 9,
      "outputs": []
    },
    {
      "cell_type": "code",
      "source": [
        "X, y = data_loader(df_scaled, sequence_length=5)"
      ],
      "metadata": {
        "id": "_hejRDKGCGIp"
      },
      "execution_count": 10,
      "outputs": []
    },
    {
      "cell_type": "code",
      "source": [
        "print(X[0])"
      ],
      "metadata": {
        "colab": {
          "base_uri": "https://localhost:8080/"
        },
        "id": "Ox_baxpLJSR4",
        "outputId": "3b4fb61a-f3a7-4b1e-bde9-06926055b488"
      },
      "execution_count": 11,
      "outputs": [
        {
          "output_type": "stream",
          "name": "stdout",
          "text": [
            "[[0.47477745 0.21912351 0.3754386  0.35955056 0.24281984 0.31490385\n",
            "  0.37581699 0.47460087 0.         0.16129032 0.13800425 0.22388889\n",
            "  0.70065076 0.004      0.35766423 0.61020093 0.7        0.36734694]\n",
            " [0.41543027 0.20318725 0.32631579 0.31460674 0.23237598 0.28125\n",
            "  0.37581699 0.49927431 0.         0.14516129 0.15711253 0.28138889\n",
            "  0.68546638 0.281      0.40145985 0.57990726 0.7        0.39795918]\n",
            " [0.38575668 0.28685259 0.35087719 0.29213483 0.28720627 0.29807692\n",
            "  0.47385621 0.64150943 0.         0.12903226 0.13800425 0.27\n",
            "  0.62689805 0.409      0.26277372 0.35703246 0.4        0.43877551]\n",
            " [0.42433234 0.43824701 0.43157895 0.32134831 0.38642298 0.35336538\n",
            "  0.59477124 0.73730044 0.00181136 0.16129032 0.21868365 0.2725\n",
            "  0.48590022 0.88       0.2919708  0.19876352 0.3        0.46938776]\n",
            " [0.44510386 0.50199203 0.47017544 0.33707865 0.42819843 0.37980769\n",
            "  0.66993464 0.83018868 0.         0.10663082 0.13800425 0.23833333\n",
            "  0.43600868 0.9        0.13138686 0.28964451 0.4        0.51020408]]\n"
          ]
        }
      ]
    },
    {
      "cell_type": "code",
      "source": [
        "print(y[0])"
      ],
      "metadata": {
        "colab": {
          "base_uri": "https://localhost:8080/"
        },
        "id": "7yrheWI7Kl2V",
        "outputId": "0bc70b64-a09c-4dbe-f91c-35f6391d6199"
      },
      "execution_count": 12,
      "outputs": [
        {
          "output_type": "stream",
          "name": "stdout",
          "text": [
            "0.5157894736842105\n"
          ]
        }
      ]
    },
    {
      "cell_type": "code",
      "source": [
        "print(X[0].shape)"
      ],
      "metadata": {
        "colab": {
          "base_uri": "https://localhost:8080/"
        },
        "id": "xIgzTlM8LrQ_",
        "outputId": "d7ba95d5-b783-4817-9a50-66ce0e369981"
      },
      "execution_count": 13,
      "outputs": [
        {
          "output_type": "stream",
          "name": "stdout",
          "text": [
            "(5, 18)\n"
          ]
        }
      ]
    },
    {
      "cell_type": "code",
      "source": [
        "print(len(X))"
      ],
      "metadata": {
        "colab": {
          "base_uri": "https://localhost:8080/"
        },
        "id": "EyDSP5yhL_zh",
        "outputId": "116a709e-ec4b-452d-a749-860fb3deddfa"
      },
      "execution_count": 14,
      "outputs": [
        {
          "output_type": "stream",
          "name": "stdout",
          "text": [
            "3714\n"
          ]
        }
      ]
    },
    {
      "cell_type": "code",
      "source": [
        "# Define split sizes\n",
        "# 80 10 10\n",
        "train_size = 2972\n",
        "val_size = 371\n",
        "test_size = 371\n",
        "\n",
        "# Split the data\n",
        "X_train, y_train = X[:train_size], y[:train_size]\n",
        "X_val, y_val = X[train_size:train_size + val_size], y[train_size:train_size + val_size]\n",
        "X_test, y_test = X[train_size + val_size:], y[train_size + val_size:]"
      ],
      "metadata": {
        "id": "_xSvyctJMdK0"
      },
      "execution_count": 15,
      "outputs": []
    },
    {
      "cell_type": "code",
      "source": [
        "print(X_train.shape, y_train.shape)\n",
        "print(X_val.shape)\n",
        "print(X_test.shape)"
      ],
      "metadata": {
        "colab": {
          "base_uri": "https://localhost:8080/"
        },
        "id": "D-hPP0nXPQZY",
        "outputId": "e951208a-6e69-44e5-fd7c-e1f374506443"
      },
      "execution_count": 16,
      "outputs": [
        {
          "output_type": "stream",
          "name": "stdout",
          "text": [
            "(2972, 5, 18) (2972,)\n",
            "(371, 5, 18)\n",
            "(371, 5, 18)\n"
          ]
        }
      ]
    },
    {
      "cell_type": "code",
      "source": [
        "import torch\n",
        "import torch.nn as nn\n",
        "import torch.optim as optim\n",
        "\n",
        "# Define the LSTM model\n",
        "class TempPredictor(nn.Module):\n",
        "    def __init__(self, input_size, hidden_size, num_layers, output_size, dropout=0.2):\n",
        "        super(TempPredictor, self).__init__()\n",
        "        self.hidden_size = hidden_size\n",
        "        self.num_layers = num_layers\n",
        "\n",
        "        # LSTM Layer\n",
        "        self.lstm = nn.LSTM(input_size, hidden_size, num_layers, batch_first=True, dropout=dropout)\n",
        "\n",
        "        # Fully Connected Layer\n",
        "        self.fc = nn.Linear(hidden_size, output_size)\n",
        "\n",
        "    def forward(self, x):\n",
        "        h0 = torch.zeros(self.num_layers, x.size(0), self.hidden_size).to(x.device)  # Initial hidden state\n",
        "        c0 = torch.zeros(self.num_layers, x.size(0), self.hidden_size).to(x.device)  # Initial cell state\n",
        "\n",
        "        out, _ = self.lstm(x, (h0, c0))  # LSTM forward pass\n",
        "        out = self.fc(out[:, -1, :])  # Take the last time step output\n",
        "        return out\n",
        "\n",
        "# Define model parameters\n",
        "input_size = 18  # Number of features\n",
        "hidden_size = 64  # LSTM hidden units\n",
        "num_layers = 2  # Number of LSTM layers\n",
        "output_size = 1  # Predicting a single temperature value\n",
        "\n",
        "# Initialize the model\n",
        "model = TempPredictor(input_size, hidden_size, num_layers, output_size)\n",
        "\n",
        "# Define loss function and optimizer\n",
        "criterion = nn.MSELoss()  # Mean Squared Error for regression\n",
        "optimizer = optim.Adam(model.parameters(), lr=0.001)\n",
        "\n",
        "# Print model summary\n",
        "print(model)\n"
      ],
      "metadata": {
        "colab": {
          "base_uri": "https://localhost:8080/"
        },
        "id": "g-hS6IP7PjRA",
        "outputId": "99b4184a-567f-489b-f278-ae3c46bdb730"
      },
      "execution_count": 17,
      "outputs": [
        {
          "output_type": "stream",
          "name": "stdout",
          "text": [
            "TempPredictor(\n",
            "  (lstm): LSTM(18, 64, num_layers=2, batch_first=True, dropout=0.2)\n",
            "  (fc): Linear(in_features=64, out_features=1, bias=True)\n",
            ")\n"
          ]
        }
      ]
    },
    {
      "cell_type": "code",
      "source": [
        "from torch.utils.data import DataLoader, TensorDataset\n",
        "\n",
        "# Convert data to PyTorch tensors\n",
        "X_train_tensor = torch.tensor(X_train, dtype=torch.float32)\n",
        "y_train_tensor = torch.tensor(y_train, dtype=torch.float32).unsqueeze(1)  # Add dimension for MSE loss\n",
        "\n",
        "X_val_tensor = torch.tensor(X_val, dtype=torch.float32)\n",
        "y_val_tensor = torch.tensor(y_val, dtype=torch.float32).unsqueeze(1)\n",
        "\n",
        "# Create DataLoader for batching\n",
        "batch_size = 32\n",
        "train_dataset = TensorDataset(X_train_tensor, y_train_tensor)\n",
        "train_loader = DataLoader(train_dataset, batch_size=batch_size, shuffle=True)\n",
        "\n",
        "val_dataset = TensorDataset(X_val_tensor, y_val_tensor)\n",
        "val_loader = DataLoader(val_dataset, batch_size=batch_size, shuffle=False)\n",
        "\n",
        "# Move model to GPU if available\n",
        "device = torch.device(\"cuda\" if torch.cuda.is_available() else \"cpu\")\n",
        "model.to(device)\n"
      ],
      "metadata": {
        "colab": {
          "base_uri": "https://localhost:8080/"
        },
        "id": "_Wy5NdTWYTqa",
        "outputId": "7059d9b5-74b4-4d75-f3f3-f29269d14c93"
      },
      "execution_count": 18,
      "outputs": [
        {
          "output_type": "execute_result",
          "data": {
            "text/plain": [
              "TempPredictor(\n",
              "  (lstm): LSTM(18, 64, num_layers=2, batch_first=True, dropout=0.2)\n",
              "  (fc): Linear(in_features=64, out_features=1, bias=True)\n",
              ")"
            ]
          },
          "metadata": {},
          "execution_count": 18
        }
      ]
    },
    {
      "cell_type": "code",
      "source": [
        "import matplotlib.pyplot as plt\n",
        "import numpy as np\n",
        "\n",
        "# Store loss values for plotting\n",
        "train_losses = []\n",
        "val_losses = []\n",
        "\n",
        "# Training loop\n",
        "num_epochs = 50\n",
        "\n",
        "for epoch in range(num_epochs):\n",
        "    model.train()\n",
        "    train_loss = 0.0\n",
        "\n",
        "    for inputs, targets in train_loader:\n",
        "        inputs, targets = inputs.to(device), targets.to(device)\n",
        "\n",
        "        optimizer.zero_grad()  # Zero the gradients\n",
        "        outputs = model(inputs)  # Forward pass\n",
        "        loss = criterion(outputs, targets)  # Compute loss\n",
        "        loss.backward()  # Backpropagation\n",
        "        optimizer.step()  # Update weights\n",
        "\n",
        "        train_loss += loss.item()\n",
        "\n",
        "    # Validation\n",
        "    model.eval()\n",
        "    val_loss = 0.0\n",
        "    with torch.no_grad():\n",
        "        for inputs, targets in val_loader:\n",
        "            inputs, targets = inputs.to(device), targets.to(device)\n",
        "            outputs = model(inputs)\n",
        "            loss = criterion(outputs, targets)\n",
        "            val_loss += loss.item()\n",
        "\n",
        "    # Store loss for plotting\n",
        "    train_losses.append(train_loss / len(train_loader))\n",
        "    val_losses.append(val_loss / len(val_loader))\n",
        "\n",
        "    print(f\"Epoch {epoch+1}/{num_epochs}, Train Loss: {train_losses[-1]:.4f}, Val Loss: {val_losses[-1]:.4f}\")\n",
        "\n",
        "print(\"Training complete!\")\n"
      ],
      "metadata": {
        "colab": {
          "base_uri": "https://localhost:8080/"
        },
        "id": "fX2M4vzJY5Yq",
        "outputId": "cd956254-4bf5-44dc-8be7-3dc3ebd5f862"
      },
      "execution_count": 19,
      "outputs": [
        {
          "output_type": "stream",
          "name": "stdout",
          "text": [
            "Epoch 1/50, Train Loss: 0.0309, Val Loss: 0.0095\n",
            "Epoch 2/50, Train Loss: 0.0072, Val Loss: 0.0085\n",
            "Epoch 3/50, Train Loss: 0.0062, Val Loss: 0.0066\n",
            "Epoch 4/50, Train Loss: 0.0054, Val Loss: 0.0054\n",
            "Epoch 5/50, Train Loss: 0.0047, Val Loss: 0.0044\n",
            "Epoch 6/50, Train Loss: 0.0042, Val Loss: 0.0038\n",
            "Epoch 7/50, Train Loss: 0.0039, Val Loss: 0.0037\n",
            "Epoch 8/50, Train Loss: 0.0036, Val Loss: 0.0037\n",
            "Epoch 9/50, Train Loss: 0.0035, Val Loss: 0.0033\n",
            "Epoch 10/50, Train Loss: 0.0035, Val Loss: 0.0036\n",
            "Epoch 11/50, Train Loss: 0.0032, Val Loss: 0.0032\n",
            "Epoch 12/50, Train Loss: 0.0034, Val Loss: 0.0033\n",
            "Epoch 13/50, Train Loss: 0.0032, Val Loss: 0.0034\n",
            "Epoch 14/50, Train Loss: 0.0032, Val Loss: 0.0032\n",
            "Epoch 15/50, Train Loss: 0.0032, Val Loss: 0.0032\n",
            "Epoch 16/50, Train Loss: 0.0032, Val Loss: 0.0032\n",
            "Epoch 17/50, Train Loss: 0.0031, Val Loss: 0.0031\n",
            "Epoch 18/50, Train Loss: 0.0031, Val Loss: 0.0030\n",
            "Epoch 19/50, Train Loss: 0.0032, Val Loss: 0.0032\n",
            "Epoch 20/50, Train Loss: 0.0030, Val Loss: 0.0032\n",
            "Epoch 21/50, Train Loss: 0.0030, Val Loss: 0.0030\n",
            "Epoch 22/50, Train Loss: 0.0030, Val Loss: 0.0029\n",
            "Epoch 23/50, Train Loss: 0.0030, Val Loss: 0.0030\n",
            "Epoch 24/50, Train Loss: 0.0030, Val Loss: 0.0030\n",
            "Epoch 25/50, Train Loss: 0.0029, Val Loss: 0.0036\n",
            "Epoch 26/50, Train Loss: 0.0029, Val Loss: 0.0029\n",
            "Epoch 27/50, Train Loss: 0.0030, Val Loss: 0.0030\n",
            "Epoch 28/50, Train Loss: 0.0030, Val Loss: 0.0032\n",
            "Epoch 29/50, Train Loss: 0.0029, Val Loss: 0.0030\n",
            "Epoch 30/50, Train Loss: 0.0028, Val Loss: 0.0033\n",
            "Epoch 31/50, Train Loss: 0.0028, Val Loss: 0.0030\n",
            "Epoch 32/50, Train Loss: 0.0028, Val Loss: 0.0031\n",
            "Epoch 33/50, Train Loss: 0.0028, Val Loss: 0.0029\n",
            "Epoch 34/50, Train Loss: 0.0027, Val Loss: 0.0030\n",
            "Epoch 35/50, Train Loss: 0.0029, Val Loss: 0.0031\n",
            "Epoch 36/50, Train Loss: 0.0030, Val Loss: 0.0028\n",
            "Epoch 37/50, Train Loss: 0.0028, Val Loss: 0.0031\n",
            "Epoch 38/50, Train Loss: 0.0029, Val Loss: 0.0028\n",
            "Epoch 39/50, Train Loss: 0.0029, Val Loss: 0.0031\n",
            "Epoch 40/50, Train Loss: 0.0028, Val Loss: 0.0029\n",
            "Epoch 41/50, Train Loss: 0.0028, Val Loss: 0.0028\n",
            "Epoch 42/50, Train Loss: 0.0028, Val Loss: 0.0030\n",
            "Epoch 43/50, Train Loss: 0.0027, Val Loss: 0.0030\n",
            "Epoch 44/50, Train Loss: 0.0027, Val Loss: 0.0028\n",
            "Epoch 45/50, Train Loss: 0.0027, Val Loss: 0.0029\n",
            "Epoch 46/50, Train Loss: 0.0027, Val Loss: 0.0028\n",
            "Epoch 47/50, Train Loss: 0.0027, Val Loss: 0.0032\n",
            "Epoch 48/50, Train Loss: 0.0026, Val Loss: 0.0034\n",
            "Epoch 49/50, Train Loss: 0.0027, Val Loss: 0.0027\n",
            "Epoch 50/50, Train Loss: 0.0028, Val Loss: 0.0030\n",
            "Training complete!\n"
          ]
        }
      ]
    },
    {
      "cell_type": "code",
      "source": [
        "\n",
        "# Plot loss curves\n",
        "plt.figure(figsize=(10, 5))\n",
        "plt.plot(train_losses, label='Train Loss')\n",
        "plt.plot(val_losses, label='Validation Loss')\n",
        "plt.xlabel(\"Epochs\")\n",
        "plt.ylabel(\"Loss (MSE)\")\n",
        "plt.legend()\n",
        "plt.title(\"Training & Validation Loss\")\n",
        "plt.show()\n"
      ],
      "metadata": {
        "colab": {
          "base_uri": "https://localhost:8080/",
          "height": 487
        },
        "id": "CbTDioR_Z1Qu",
        "outputId": "78a99020-214c-4c0b-810b-605a0a1a3e0a"
      },
      "execution_count": 20,
      "outputs": [
        {
          "output_type": "display_data",
          "data": {
            "text/plain": [
              "<Figure size 1000x500 with 1 Axes>"
            ],
            "image/png": "[encoded data removed]"
          },
          "metadata": {}
        }
      ]
    },
    {
      "cell_type": "code",
      "source": [
        "from sklearn.metrics import mean_absolute_error, mean_squared_error\n",
        "\n",
        "# Convert test data to PyTorch tensors\n",
        "X_test_tensor = torch.tensor(X_test, dtype=torch.float32).to(device)\n",
        "y_test_tensor = torch.tensor(y_test, dtype=torch.float32).unsqueeze(1).to(device)  # Ensure shape compatibility\n",
        "\n",
        "# Predict on test data\n",
        "model.eval()\n",
        "with torch.no_grad():\n",
        "    y_pred_tensor = model(X_test_tensor)\n",
        "\n",
        "# Convert predictions and ground truth back to numpy\n",
        "y_pred = y_pred_tensor.cpu().numpy().flatten()\n",
        "y_test = y_test_tensor.cpu().numpy().flatten()\n",
        "\n",
        "# Compute evaluation metrics\n",
        "mae = mean_absolute_error(y_test, y_pred)\n",
        "rmse = np.sqrt(mean_squared_error(y_test, y_pred))\n",
        "mape = np.mean(np.abs((y_test - y_pred) / y_test)) * 100  # Mean Absolute Percentage Error\n",
        "\n",
        "# Print results\n",
        "print(f\"Mean Absolute Percentage Error (MAPE): {mape:.2f}%\")\n",
        "print(f\"Mean Absolute Error (MAE): {mae:.4f}\")\n",
        "print(f\"Root Mean Squared Error (RMSE): {rmse:.4f}\")\n"
      ],
      "metadata": {
        "colab": {
          "base_uri": "https://localhost:8080/"
        },
        "id": "i4XVAvcFZ8PN",
        "outputId": "922e1946-47e3-4ec9-844f-0e1395318c10"
      },
      "execution_count": 21,
      "outputs": [
        {
          "output_type": "stream",
          "name": "stdout",
          "text": [
            "Mean Absolute Percentage Error (MAPE): 7.21%\n",
            "Mean Absolute Error (MAE): 0.0405\n",
            "Root Mean Squared Error (RMSE): 0.0508\n"
          ]
        }
      ]
    },
    {
      "cell_type": "code",
      "source": [
        "# Reshape the predictions and ground truth for inverse transformation\n",
        "y_pred_reshaped = y_pred.reshape(-1, 1)  # Reshape to 2D\n",
        "y_test_reshaped = y_test.reshape(-1, 1)\n",
        "\n",
        "# Create a dummy array to match the scaler's expected shape (18 features)\n",
        "dummy_array = np.zeros((len(y_pred), 18))\n",
        "dummy_array[:, 2] = y_pred_reshaped.flatten()  # Assign values to the 3rd column (temp)\n",
        "\n",
        "# Inverse transform using the scaler\n",
        "y_pred_rescaled = scaler.inverse_transform(dummy_array)[:, 2]  # Extract only the temp column\n",
        "\n",
        "# Do the same for y_test\n",
        "dummy_array[:, 2] = y_test_reshaped.flatten()  # Assign values to the 3rd column (temp)\n",
        "y_test_rescaled = scaler.inverse_transform(dummy_array)[:, 2]  # Extract only the temp column\n"
      ],
      "metadata": {
        "id": "c56BsK6tabqT"
      },
      "execution_count": 22,
      "outputs": []
    },
    {
      "cell_type": "code",
      "source": [
        "# Plot actual vs predicted values\n",
        "plt.figure(figsize=(12, 6))\n",
        "plt.plot(y_test_rescaled, label=\"Actual Temperature\", color=\"blue\")\n",
        "plt.plot(y_pred_rescaled, label=\"Predicted Temperature\", color=\"red\", linestyle=\"dashed\")\n",
        "plt.xlabel(\"Time Steps\")\n",
        "plt.ylabel(\"Temperature\")\n",
        "plt.legend()\n",
        "plt.title(\"Actual vs Predicted Temperature\")\n",
        "plt.show()"
      ],
      "metadata": {
        "colab": {
          "base_uri": "https://localhost:8080/",
          "height": 549
        },
        "id": "ILpPaw08ayyG",
        "outputId": "138a99ff-59b7-45f4-e053-d772b534895d"
      },
      "execution_count": 25,
      "outputs": [
        {
          "output_type": "display_data",
          "data": {
            "text/plain": [
              "<Figure size 1200x600 with 1 Axes>"
            ],
            "image/png": "[encoded data removed]"
          },
          "metadata": {}
        }
      ]
    },
    {
      "cell_type": "code",
      "source": [
        "mae = mean_absolute_error(y_test_rescaled, y_pred_rescaled)\n",
        "rmse = np.sqrt(mean_squared_error(y_test_rescaled, y_pred_rescaled))\n",
        "mape = np.mean(np.abs((y_test_rescaled - y_pred_rescaled) / y_test_rescaled)) * 100  # Mean Absolute Percentage Error\n",
        "\n",
        "# Print results\n",
        "print(f\"Mean Absolute Percentage Error (MAPE): {mape:.2f}%\")\n",
        "print(f\"Mean Absolute Error (MAE): {mae:.4f}\")\n",
        "print(f\"Root Mean Squared Error (RMSE): {rmse:.4f}\")"
      ],
      "metadata": {
        "colab": {
          "base_uri": "https://localhost:8080/"
        },
        "id": "A9q08uJIbOzy",
        "outputId": "51691193-b5b0-49c0-a816-31d90a32269e"
      },
      "execution_count": 27,
      "outputs": [
        {
          "output_type": "stream",
          "name": "stdout",
          "text": [
            "Mean Absolute Percentage Error (MAPE): 4.89%\n",
            "Mean Absolute Error (MAE): 1.1544\n",
            "Root Mean Squared Error (RMSE): 1.4489\n"
          ]
        }
      ]
    }
  ]
}